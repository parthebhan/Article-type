{
  "cells": [
    {
      "cell_type": "code",
      "execution_count": 1,
      "metadata": {
        "colab": {
          "base_uri": "https://localhost:8080/"
        },
        "id": "xi26SQZaf88R",
        "outputId": "a99e8d7a-f8fc-418e-ea0a-6ba50a1001ba"
      },
      "outputs": [
        {
          "output_type": "stream",
          "name": "stdout",
          "text": [
            "Mounted at /content/drive\n"
          ]
        }
      ],
      "source": [
        "from google.colab import drive\n",
        "drive.mount('/content/drive')"
      ]
    },
    {
      "cell_type": "code",
      "execution_count": 22,
      "metadata": {
        "colab": {
          "base_uri": "https://localhost:8080/"
        },
        "id": "yaHT7Y0Lf9tt",
        "outputId": "e18031a0-fb75-4e82-85ac-d0e524401064"
      },
      "outputs": [
        {
          "output_type": "stream",
          "name": "stderr",
          "text": [
            "[nltk_data] Downloading package stopwords to /root/nltk_data...\n",
            "[nltk_data]   Package stopwords is already up-to-date!\n"
          ]
        }
      ],
      "source": [
        "import pandas as pd\n",
        "import numpy as np\n",
        "import seaborn as sns\n",
        "import matplotlib.pyplot as plt\n",
        "\n",
        "from sklearn.preprocessing import LabelEncoder\n",
        "from imblearn.over_sampling import RandomOverSampler\n",
        "\n",
        "from transformers import BertTokenizer, TFBertModel\n",
        "import tensorflow as tf\n",
        "from sklearn.model_selection import train_test_split\n",
        "\n",
        "from sklearn.ensemble import RandomForestClassifier, GradientBoostingClassifier\n",
        "from sklearn.svm import SVC\n",
        "from sklearn.neighbors import KNeighborsClassifier\n",
        "from sklearn.linear_model import LogisticRegression\n",
        "from sklearn.neural_network import MLPClassifier\n",
        "from sklearn.metrics import classification_report, confusion_matrix, accuracy_score\n",
        "\n",
        "from sklearn.metrics import confusion_matrix, classification_report\n",
        "\n",
        "import re\n",
        "import nltk\n",
        "from nltk.corpus import stopwords\n",
        "nltk.download('stopwords')\n",
        "stopw = stopwords.words('english')\n"
      ]
    },
    {
      "cell_type": "code",
      "execution_count": 5,
      "metadata": {
        "colab": {
          "base_uri": "https://localhost:8080/",
          "height": 310
        },
        "id": "Z3MbHDCtf9wE",
        "outputId": "4218dcaf-52f7-4e0c-84f8-b66b62e83bcf"
      },
      "outputs": [
        {
          "output_type": "execute_result",
          "data": {
            "text/plain": [
              "                                     Id  \\\n",
              "0  d6995462-5e87-453b-b64d-e9f1df6e94d2   \n",
              "1  8b05e939-a89e-4548-b92b-013822e8ee7d   \n",
              "2  69fcd400-bceb-4255-8277-619f2d68ac0b   \n",
              "3  17943578-c11b-414b-b3f5-063d3a93157b   \n",
              "4  f33c7b11-5f77-4a98-bb2e-d36689042aea   \n",
              "\n",
              "                                             Heading  \\\n",
              "0  A Puzzling Maneuver, Then Freefall: NTSB Repor...   \n",
              "1  Bells Nexus Air Taxi Concept Rings Changes Fo...   \n",
              "2                Bell Helicopter Show Air Taxi Nexus   \n",
              "3  BELL DÉVOILE LA CONCEPTION INTÉGRALE DE SON TA...   \n",
              "4             Les premiers retours dOlivier Ezratty   \n",
              "\n",
              "                                Article.Banner.Image                Outlets  \\\n",
              "0                                                NaN           Essex Caller   \n",
              "1                                                NaN  Aviation Week Network   \n",
              "2  http://images.tmtpost.com/uploads/images/2019/...                TMTPost   \n",
              "3  http://www.fredzone.org/wp-content/uploads/201...               Fredzone   \n",
              "4                                                NaN              FrenchWeb   \n",
              "\n",
              "                                 Article.Description  \\\n",
              "0  <p>The helicopter that crashed in Southeast Al...   \n",
              "1  <p>A year after teasing the fledgling electric...   \n",
              "2  <p>Bell released the full-size design of the v...   \n",
              "3  <p>Bell est une soci&eacute;t&eacute; am&eacut...   \n",
              "4  <p>It was still anecdotal to observe the explo...   \n",
              "\n",
              "                                        Full_Article Article_Type  Tonality  \n",
              "0  <p>The helicopter that crashed in Southeast Al...   Commercial  Negative  \n",
              "1  <p>A year after teasing the fledgling electric...   Commercial  Positive  \n",
              "2  <p>Bell released the full-size design of the v...   Commercial  Positive  \n",
              "3  <p>Bell est une soci&eacute;t&eacute; am&eacut...   Commercial  Positive  \n",
              "4  <p>It was still anecdotal to observe the explo...   Commercial  Positive  "
            ],
            "text/html": [
              "\n",
              "  <div id=\"df-e3a98777-c7c2-41b3-82d2-8a0a6972098c\" class=\"colab-df-container\">\n",
              "    <div>\n",
              "<style scoped>\n",
              "    .dataframe tbody tr th:only-of-type {\n",
              "        vertical-align: middle;\n",
              "    }\n",
              "\n",
              "    .dataframe tbody tr th {\n",
              "        vertical-align: top;\n",
              "    }\n",
              "\n",
              "    .dataframe thead th {\n",
              "        text-align: right;\n",
              "    }\n",
              "</style>\n",
              "<table border=\"1\" class=\"dataframe\">\n",
              "  <thead>\n",
              "    <tr style=\"text-align: right;\">\n",
              "      <th></th>\n",
              "      <th>Id</th>\n",
              "      <th>Heading</th>\n",
              "      <th>Article.Banner.Image</th>\n",
              "      <th>Outlets</th>\n",
              "      <th>Article.Description</th>\n",
              "      <th>Full_Article</th>\n",
              "      <th>Article_Type</th>\n",
              "      <th>Tonality</th>\n",
              "    </tr>\n",
              "  </thead>\n",
              "  <tbody>\n",
              "    <tr>\n",
              "      <th>0</th>\n",
              "      <td>d6995462-5e87-453b-b64d-e9f1df6e94d2</td>\n",
              "      <td>A Puzzling Maneuver, Then Freefall: NTSB Repor...</td>\n",
              "      <td>NaN</td>\n",
              "      <td>Essex Caller</td>\n",
              "      <td>&lt;p&gt;The helicopter that crashed in Southeast Al...</td>\n",
              "      <td>&lt;p&gt;The helicopter that crashed in Southeast Al...</td>\n",
              "      <td>Commercial</td>\n",
              "      <td>Negative</td>\n",
              "    </tr>\n",
              "    <tr>\n",
              "      <th>1</th>\n",
              "      <td>8b05e939-a89e-4548-b92b-013822e8ee7d</td>\n",
              "      <td>Bells Nexus Air Taxi Concept Rings Changes Fo...</td>\n",
              "      <td>NaN</td>\n",
              "      <td>Aviation Week Network</td>\n",
              "      <td>&lt;p&gt;A year after teasing the fledgling electric...</td>\n",
              "      <td>&lt;p&gt;A year after teasing the fledgling electric...</td>\n",
              "      <td>Commercial</td>\n",
              "      <td>Positive</td>\n",
              "    </tr>\n",
              "    <tr>\n",
              "      <th>2</th>\n",
              "      <td>69fcd400-bceb-4255-8277-619f2d68ac0b</td>\n",
              "      <td>Bell Helicopter Show Air Taxi Nexus</td>\n",
              "      <td>http://images.tmtpost.com/uploads/images/2019/...</td>\n",
              "      <td>TMTPost</td>\n",
              "      <td>&lt;p&gt;Bell released the full-size design of the v...</td>\n",
              "      <td>&lt;p&gt;Bell released the full-size design of the v...</td>\n",
              "      <td>Commercial</td>\n",
              "      <td>Positive</td>\n",
              "    </tr>\n",
              "    <tr>\n",
              "      <th>3</th>\n",
              "      <td>17943578-c11b-414b-b3f5-063d3a93157b</td>\n",
              "      <td>BELL DÉVOILE LA CONCEPTION INTÉGRALE DE SON TA...</td>\n",
              "      <td>http://www.fredzone.org/wp-content/uploads/201...</td>\n",
              "      <td>Fredzone</td>\n",
              "      <td>&lt;p&gt;Bell est une soci&amp;eacute;t&amp;eacute; am&amp;eacut...</td>\n",
              "      <td>&lt;p&gt;Bell est une soci&amp;eacute;t&amp;eacute; am&amp;eacut...</td>\n",
              "      <td>Commercial</td>\n",
              "      <td>Positive</td>\n",
              "    </tr>\n",
              "    <tr>\n",
              "      <th>4</th>\n",
              "      <td>f33c7b11-5f77-4a98-bb2e-d36689042aea</td>\n",
              "      <td>Les premiers retours dOlivier Ezratty</td>\n",
              "      <td>NaN</td>\n",
              "      <td>FrenchWeb</td>\n",
              "      <td>&lt;p&gt;It was still anecdotal to observe the explo...</td>\n",
              "      <td>&lt;p&gt;It was still anecdotal to observe the explo...</td>\n",
              "      <td>Commercial</td>\n",
              "      <td>Positive</td>\n",
              "    </tr>\n",
              "  </tbody>\n",
              "</table>\n",
              "</div>\n",
              "    <div class=\"colab-df-buttons\">\n",
              "\n",
              "  <div class=\"colab-df-container\">\n",
              "    <button class=\"colab-df-convert\" onclick=\"convertToInteractive('df-e3a98777-c7c2-41b3-82d2-8a0a6972098c')\"\n",
              "            title=\"Convert this dataframe to an interactive table.\"\n",
              "            style=\"display:none;\">\n",
              "\n",
              "  <svg xmlns=\"http://www.w3.org/2000/svg\" height=\"24px\" viewBox=\"0 -960 960 960\">\n",
              "    <path d=\"M120-120v-720h720v720H120Zm60-500h600v-160H180v160Zm220 220h160v-160H400v160Zm0 220h160v-160H400v160ZM180-400h160v-160H180v160Zm440 0h160v-160H620v160ZM180-180h160v-160H180v160Zm440 0h160v-160H620v160Z\"/>\n",
              "  </svg>\n",
              "    </button>\n",
              "\n",
              "  <style>\n",
              "    .colab-df-container {\n",
              "      display:flex;\n",
              "      gap: 12px;\n",
              "    }\n",
              "\n",
              "    .colab-df-convert {\n",
              "      background-color: #E8F0FE;\n",
              "      border: none;\n",
              "      border-radius: 50%;\n",
              "      cursor: pointer;\n",
              "      display: none;\n",
              "      fill: #1967D2;\n",
              "      height: 32px;\n",
              "      padding: 0 0 0 0;\n",
              "      width: 32px;\n",
              "    }\n",
              "\n",
              "    .colab-df-convert:hover {\n",
              "      background-color: #E2EBFA;\n",
              "      box-shadow: 0px 1px 2px rgba(60, 64, 67, 0.3), 0px 1px 3px 1px rgba(60, 64, 67, 0.15);\n",
              "      fill: #174EA6;\n",
              "    }\n",
              "\n",
              "    .colab-df-buttons div {\n",
              "      margin-bottom: 4px;\n",
              "    }\n",
              "\n",
              "    [theme=dark] .colab-df-convert {\n",
              "      background-color: #3B4455;\n",
              "      fill: #D2E3FC;\n",
              "    }\n",
              "\n",
              "    [theme=dark] .colab-df-convert:hover {\n",
              "      background-color: #434B5C;\n",
              "      box-shadow: 0px 1px 3px 1px rgba(0, 0, 0, 0.15);\n",
              "      filter: drop-shadow(0px 1px 2px rgba(0, 0, 0, 0.3));\n",
              "      fill: #FFFFFF;\n",
              "    }\n",
              "  </style>\n",
              "\n",
              "    <script>\n",
              "      const buttonEl =\n",
              "        document.querySelector('#df-e3a98777-c7c2-41b3-82d2-8a0a6972098c button.colab-df-convert');\n",
              "      buttonEl.style.display =\n",
              "        google.colab.kernel.accessAllowed ? 'block' : 'none';\n",
              "\n",
              "      async function convertToInteractive(key) {\n",
              "        const element = document.querySelector('#df-e3a98777-c7c2-41b3-82d2-8a0a6972098c');\n",
              "        const dataTable =\n",
              "          await google.colab.kernel.invokeFunction('convertToInteractive',\n",
              "                                                    [key], {});\n",
              "        if (!dataTable) return;\n",
              "\n",
              "        const docLinkHtml = 'Like what you see? Visit the ' +\n",
              "          '<a target=\"_blank\" href=https://colab.research.google.com/notebooks/data_table.ipynb>data table notebook</a>'\n",
              "          + ' to learn more about interactive tables.';\n",
              "        element.innerHTML = '';\n",
              "        dataTable['output_type'] = 'display_data';\n",
              "        await google.colab.output.renderOutput(dataTable, element);\n",
              "        const docLink = document.createElement('div');\n",
              "        docLink.innerHTML = docLinkHtml;\n",
              "        element.appendChild(docLink);\n",
              "      }\n",
              "    </script>\n",
              "  </div>\n",
              "\n",
              "\n",
              "<div id=\"df-76a93b9b-3d7b-4465-8c04-5b4f7c865e63\">\n",
              "  <button class=\"colab-df-quickchart\" onclick=\"quickchart('df-76a93b9b-3d7b-4465-8c04-5b4f7c865e63')\"\n",
              "            title=\"Suggest charts\"\n",
              "            style=\"display:none;\">\n",
              "\n",
              "<svg xmlns=\"http://www.w3.org/2000/svg\" height=\"24px\"viewBox=\"0 0 24 24\"\n",
              "     width=\"24px\">\n",
              "    <g>\n",
              "        <path d=\"M19 3H5c-1.1 0-2 .9-2 2v14c0 1.1.9 2 2 2h14c1.1 0 2-.9 2-2V5c0-1.1-.9-2-2-2zM9 17H7v-7h2v7zm4 0h-2V7h2v10zm4 0h-2v-4h2v4z\"/>\n",
              "    </g>\n",
              "</svg>\n",
              "  </button>\n",
              "\n",
              "<style>\n",
              "  .colab-df-quickchart {\n",
              "      --bg-color: #E8F0FE;\n",
              "      --fill-color: #1967D2;\n",
              "      --hover-bg-color: #E2EBFA;\n",
              "      --hover-fill-color: #174EA6;\n",
              "      --disabled-fill-color: #AAA;\n",
              "      --disabled-bg-color: #DDD;\n",
              "  }\n",
              "\n",
              "  [theme=dark] .colab-df-quickchart {\n",
              "      --bg-color: #3B4455;\n",
              "      --fill-color: #D2E3FC;\n",
              "      --hover-bg-color: #434B5C;\n",
              "      --hover-fill-color: #FFFFFF;\n",
              "      --disabled-bg-color: #3B4455;\n",
              "      --disabled-fill-color: #666;\n",
              "  }\n",
              "\n",
              "  .colab-df-quickchart {\n",
              "    background-color: var(--bg-color);\n",
              "    border: none;\n",
              "    border-radius: 50%;\n",
              "    cursor: pointer;\n",
              "    display: none;\n",
              "    fill: var(--fill-color);\n",
              "    height: 32px;\n",
              "    padding: 0;\n",
              "    width: 32px;\n",
              "  }\n",
              "\n",
              "  .colab-df-quickchart:hover {\n",
              "    background-color: var(--hover-bg-color);\n",
              "    box-shadow: 0 1px 2px rgba(60, 64, 67, 0.3), 0 1px 3px 1px rgba(60, 64, 67, 0.15);\n",
              "    fill: var(--button-hover-fill-color);\n",
              "  }\n",
              "\n",
              "  .colab-df-quickchart-complete:disabled,\n",
              "  .colab-df-quickchart-complete:disabled:hover {\n",
              "    background-color: var(--disabled-bg-color);\n",
              "    fill: var(--disabled-fill-color);\n",
              "    box-shadow: none;\n",
              "  }\n",
              "\n",
              "  .colab-df-spinner {\n",
              "    border: 2px solid var(--fill-color);\n",
              "    border-color: transparent;\n",
              "    border-bottom-color: var(--fill-color);\n",
              "    animation:\n",
              "      spin 1s steps(1) infinite;\n",
              "  }\n",
              "\n",
              "  @keyframes spin {\n",
              "    0% {\n",
              "      border-color: transparent;\n",
              "      border-bottom-color: var(--fill-color);\n",
              "      border-left-color: var(--fill-color);\n",
              "    }\n",
              "    20% {\n",
              "      border-color: transparent;\n",
              "      border-left-color: var(--fill-color);\n",
              "      border-top-color: var(--fill-color);\n",
              "    }\n",
              "    30% {\n",
              "      border-color: transparent;\n",
              "      border-left-color: var(--fill-color);\n",
              "      border-top-color: var(--fill-color);\n",
              "      border-right-color: var(--fill-color);\n",
              "    }\n",
              "    40% {\n",
              "      border-color: transparent;\n",
              "      border-right-color: var(--fill-color);\n",
              "      border-top-color: var(--fill-color);\n",
              "    }\n",
              "    60% {\n",
              "      border-color: transparent;\n",
              "      border-right-color: var(--fill-color);\n",
              "    }\n",
              "    80% {\n",
              "      border-color: transparent;\n",
              "      border-right-color: var(--fill-color);\n",
              "      border-bottom-color: var(--fill-color);\n",
              "    }\n",
              "    90% {\n",
              "      border-color: transparent;\n",
              "      border-bottom-color: var(--fill-color);\n",
              "    }\n",
              "  }\n",
              "</style>\n",
              "\n",
              "  <script>\n",
              "    async function quickchart(key) {\n",
              "      const quickchartButtonEl =\n",
              "        document.querySelector('#' + key + ' button');\n",
              "      quickchartButtonEl.disabled = true;  // To prevent multiple clicks.\n",
              "      quickchartButtonEl.classList.add('colab-df-spinner');\n",
              "      try {\n",
              "        const charts = await google.colab.kernel.invokeFunction(\n",
              "            'suggestCharts', [key], {});\n",
              "      } catch (error) {\n",
              "        console.error('Error during call to suggestCharts:', error);\n",
              "      }\n",
              "      quickchartButtonEl.classList.remove('colab-df-spinner');\n",
              "      quickchartButtonEl.classList.add('colab-df-quickchart-complete');\n",
              "    }\n",
              "    (() => {\n",
              "      let quickchartButtonEl =\n",
              "        document.querySelector('#df-76a93b9b-3d7b-4465-8c04-5b4f7c865e63 button');\n",
              "      quickchartButtonEl.style.display =\n",
              "        google.colab.kernel.accessAllowed ? 'block' : 'none';\n",
              "    })();\n",
              "  </script>\n",
              "</div>\n",
              "\n",
              "    </div>\n",
              "  </div>\n"
            ],
            "application/vnd.google.colaboratory.intrinsic+json": {
              "type": "dataframe",
              "variable_name": "df1",
              "summary": "{\n  \"name\": \"df1\",\n  \"rows\": 4305,\n  \"fields\": [\n    {\n      \"column\": \"Id\",\n      \"properties\": {\n        \"dtype\": \"string\",\n        \"num_unique_values\": 4305,\n        \"samples\": [\n          \"deb94acc-cdd2-4794-9107-71aac786102d\",\n          \"df9ba9fd-9fae-4c50-94a1-9f7b5594dc84\",\n          \"2d599e09-c405-4991-bf21-fb1e574730f6\"\n        ],\n        \"semantic_type\": \"\",\n        \"description\": \"\"\n      }\n    },\n    {\n      \"column\": \"Heading\",\n      \"properties\": {\n        \"dtype\": \"string\",\n        \"num_unique_values\": 4020,\n        \"samples\": [\n          \"Airbus Racer on Track for 2020 First Flight\",\n          \"JAPAN AEROSPACE: Subaru Readies for UH-X Test Flight\",\n          \"Changes at airport after two helicopters collide\"\n        ],\n        \"semantic_type\": \"\",\n        \"description\": \"\"\n      }\n    },\n    {\n      \"column\": \"Article.Banner.Image\",\n      \"properties\": {\n        \"dtype\": \"category\",\n        \"num_unique_values\": 1686,\n        \"samples\": [\n          \"https://thenewssmith.com/wp-content/uploads/2019/01/9-768x471.jpg\",\n          \"https://www.rotorandwing.com/wp-content/uploads/2019/05/ch-53k-dan-parsons-2.jpg\",\n          \"https://cdn-images-1.medium.com/max/1200/1*7RVgO7OwPGvlngzCnaskSQ.jpeg\"\n        ],\n        \"semantic_type\": \"\",\n        \"description\": \"\"\n      }\n    },\n    {\n      \"column\": \"Outlets\",\n      \"properties\": {\n        \"dtype\": \"category\",\n        \"num_unique_values\": 1762,\n        \"samples\": [\n          \"Middle East Monitor\",\n          \"Overdrive\",\n          \"TechPP\"\n        ],\n        \"semantic_type\": \"\",\n        \"description\": \"\"\n      }\n    },\n    {\n      \"column\": \"Article.Description\",\n      \"properties\": {\n        \"dtype\": \"string\",\n        \"num_unique_values\": 4291,\n        \"samples\": [\n          \"Airbus says that the H130\\u0092s high altitude operational functionality and large cabin will help MARC to help patients in challenging environments. The aircraft is due for delivery in December 2018.\",\n          \"The US Army has awarded a contract to Rockwell Collins to support operational readiness of the service\\u0092s CH-47F Chinook helicopter avionics.\",\n          \"<p>Like much of the aeronautical industry, the slow evolution of Airbus Helicopters can be traced back to the early days of powered flight. Pioneering companies across both France and Germany slowly merged and coalesced &ndash; sometimes through pure economic decisions, sometimes with state direction &ndash; eventually transforming into a single entity.</p>\"\n        ],\n        \"semantic_type\": \"\",\n        \"description\": \"\"\n      }\n    },\n    {\n      \"column\": \"Full_Article\",\n      \"properties\": {\n        \"dtype\": \"string\",\n        \"num_unique_values\": 4305,\n        \"samples\": [\n          \"<p>Bell is famous for making helicopters. So, the company plans to take that to the next level with a flying car -- or taxi, depending on how an owner decides to use it.<br />\\r\\nBell says that the &quot;critical last step is designing a flight control ecosystem that allows individuals to safely and efficiently operate urban air vehicles.&rdquo;</p>\",\n          \"<p>HAI Heli-Expo 2019, held this past March in Atlanta, included a growing focus on Urban Air Mobility (UAM), most noticeably with the presence of Bell Flight\\u0092s full-scale Nexus aircraft design on display.</p>\",\n          \"<p>The Apache delivery team, part of the UK MoD, is preparing to change an Apache AH Mk 1 integrated operational support pricing period contract held by Leonardo MW Limited, according to a notice issued on the EU tenders website. (Subscription Required)</p>\"\n        ],\n        \"semantic_type\": \"\",\n        \"description\": \"\"\n      }\n    },\n    {\n      \"column\": \"Article_Type\",\n      \"properties\": {\n        \"dtype\": \"category\",\n        \"num_unique_values\": 7,\n        \"samples\": [\n          \"Commercial\",\n          \"Military\",\n          \"Financing\"\n        ],\n        \"semantic_type\": \"\",\n        \"description\": \"\"\n      }\n    },\n    {\n      \"column\": \"Tonality\",\n      \"properties\": {\n        \"dtype\": \"category\",\n        \"num_unique_values\": 3,\n        \"samples\": [\n          \"Negative\",\n          \"Positive\",\n          \"Neutral\"\n        ],\n        \"semantic_type\": \"\",\n        \"description\": \"\"\n      }\n    }\n  ]\n}"
            }
          },
          "metadata": {},
          "execution_count": 5
        }
      ],
      "source": [
        "df1 = pd.read_csv(r'/content/drive/MyDrive/Colab Notebooks/article/articles.csv',encoding='latin1')\n",
        "df1.head()"
      ]
    },
    {
      "cell_type": "code",
      "execution_count": 6,
      "metadata": {
        "colab": {
          "base_uri": "https://localhost:8080/"
        },
        "id": "fPki3wRDf9yk",
        "outputId": "f2ba595a-8f3d-40d9-df65-1a0bc8398ff4"
      },
      "outputs": [
        {
          "output_type": "stream",
          "name": "stdout",
          "text": [
            "<class 'pandas.core.frame.DataFrame'>\n",
            "RangeIndex: 4305 entries, 0 to 4304\n",
            "Data columns (total 2 columns):\n",
            " #   Column        Non-Null Count  Dtype \n",
            "---  ------        --------------  ----- \n",
            " 0   Full_Article  4305 non-null   object\n",
            " 1   Article_Type  4305 non-null   object\n",
            "dtypes: object(2)\n",
            "memory usage: 67.4+ KB\n"
          ]
        }
      ],
      "source": [
        "df = df1[['Full_Article', 'Article_Type']]\n",
        "df.head()\n",
        "df.info()"
      ]
    },
    {
      "cell_type": "code",
      "execution_count": 7,
      "metadata": {
        "colab": {
          "base_uri": "https://localhost:8080/"
        },
        "id": "w2bLxiuCmBRb",
        "outputId": "bcd58393-99b5-4cc8-eb9d-96c17cec7e99"
      },
      "outputs": [
        {
          "output_type": "stream",
          "name": "stdout",
          "text": [
            "<class 'pandas.core.frame.DataFrame'>\n",
            "RangeIndex: 4305 entries, 0 to 4304\n",
            "Data columns (total 2 columns):\n",
            " #   Column        Non-Null Count  Dtype \n",
            "---  ------        --------------  ----- \n",
            " 0   Full_Article  4305 non-null   object\n",
            " 1   Article_Type  4305 non-null   object\n",
            "dtypes: object(2)\n",
            "memory usage: 67.4+ KB\n"
          ]
        }
      ],
      "source": [
        "df = df.dropna()\n",
        "df.info()"
      ]
    },
    {
      "cell_type": "markdown",
      "metadata": {
        "id": "wt03tVDHmIK2"
      },
      "source": [
        "# Text Cleaning"
      ]
    },
    {
      "cell_type": "code",
      "execution_count": 8,
      "metadata": {
        "id": "Q9DnLcCHmBUQ"
      },
      "outputs": [],
      "source": [
        "import re\n",
        "\n",
        "def clean_text(text):\n",
        "    cleanr = re.compile('<.*?>')\n",
        "    cleantext = re.sub(cleanr, '', text)\n",
        "    clean_text = re.sub(r'[^a-zA-Z0-9\\s]', '', cleantext)\n",
        "\n",
        "    return clean_text.strip()"
      ]
    },
    {
      "cell_type": "code",
      "execution_count": 9,
      "metadata": {
        "colab": {
          "base_uri": "https://localhost:8080/",
          "height": 206
        },
        "id": "Rdi_VWiOmBWl",
        "outputId": "acc1bc88-ded2-46c1-8dfb-60bb8d251d60"
      },
      "outputs": [
        {
          "output_type": "execute_result",
          "data": {
            "text/plain": [
              "                                        Full_Article Article_Type\n",
              "0  The helicopter that crashed in Southeast Alask...   Commercial\n",
              "1  A year after teasing the fledgling electric ve...   Commercial\n",
              "2  Bell released the fullsize design of the verti...   Commercial\n",
              "3  Bell est une socieacuteteacute ameacutericaine...   Commercial\n",
              "4  It was still anecdotal to observe the explosio...   Commercial"
            ],
            "text/html": [
              "\n",
              "  <div id=\"df-d4b4c29d-51e1-4823-bc85-de7b6ee1ca14\" class=\"colab-df-container\">\n",
              "    <div>\n",
              "<style scoped>\n",
              "    .dataframe tbody tr th:only-of-type {\n",
              "        vertical-align: middle;\n",
              "    }\n",
              "\n",
              "    .dataframe tbody tr th {\n",
              "        vertical-align: top;\n",
              "    }\n",
              "\n",
              "    .dataframe thead th {\n",
              "        text-align: right;\n",
              "    }\n",
              "</style>\n",
              "<table border=\"1\" class=\"dataframe\">\n",
              "  <thead>\n",
              "    <tr style=\"text-align: right;\">\n",
              "      <th></th>\n",
              "      <th>Full_Article</th>\n",
              "      <th>Article_Type</th>\n",
              "    </tr>\n",
              "  </thead>\n",
              "  <tbody>\n",
              "    <tr>\n",
              "      <th>0</th>\n",
              "      <td>The helicopter that crashed in Southeast Alask...</td>\n",
              "      <td>Commercial</td>\n",
              "    </tr>\n",
              "    <tr>\n",
              "      <th>1</th>\n",
              "      <td>A year after teasing the fledgling electric ve...</td>\n",
              "      <td>Commercial</td>\n",
              "    </tr>\n",
              "    <tr>\n",
              "      <th>2</th>\n",
              "      <td>Bell released the fullsize design of the verti...</td>\n",
              "      <td>Commercial</td>\n",
              "    </tr>\n",
              "    <tr>\n",
              "      <th>3</th>\n",
              "      <td>Bell est une socieacuteteacute ameacutericaine...</td>\n",
              "      <td>Commercial</td>\n",
              "    </tr>\n",
              "    <tr>\n",
              "      <th>4</th>\n",
              "      <td>It was still anecdotal to observe the explosio...</td>\n",
              "      <td>Commercial</td>\n",
              "    </tr>\n",
              "  </tbody>\n",
              "</table>\n",
              "</div>\n",
              "    <div class=\"colab-df-buttons\">\n",
              "\n",
              "  <div class=\"colab-df-container\">\n",
              "    <button class=\"colab-df-convert\" onclick=\"convertToInteractive('df-d4b4c29d-51e1-4823-bc85-de7b6ee1ca14')\"\n",
              "            title=\"Convert this dataframe to an interactive table.\"\n",
              "            style=\"display:none;\">\n",
              "\n",
              "  <svg xmlns=\"http://www.w3.org/2000/svg\" height=\"24px\" viewBox=\"0 -960 960 960\">\n",
              "    <path d=\"M120-120v-720h720v720H120Zm60-500h600v-160H180v160Zm220 220h160v-160H400v160Zm0 220h160v-160H400v160ZM180-400h160v-160H180v160Zm440 0h160v-160H620v160ZM180-180h160v-160H180v160Zm440 0h160v-160H620v160Z\"/>\n",
              "  </svg>\n",
              "    </button>\n",
              "\n",
              "  <style>\n",
              "    .colab-df-container {\n",
              "      display:flex;\n",
              "      gap: 12px;\n",
              "    }\n",
              "\n",
              "    .colab-df-convert {\n",
              "      background-color: #E8F0FE;\n",
              "      border: none;\n",
              "      border-radius: 50%;\n",
              "      cursor: pointer;\n",
              "      display: none;\n",
              "      fill: #1967D2;\n",
              "      height: 32px;\n",
              "      padding: 0 0 0 0;\n",
              "      width: 32px;\n",
              "    }\n",
              "\n",
              "    .colab-df-convert:hover {\n",
              "      background-color: #E2EBFA;\n",
              "      box-shadow: 0px 1px 2px rgba(60, 64, 67, 0.3), 0px 1px 3px 1px rgba(60, 64, 67, 0.15);\n",
              "      fill: #174EA6;\n",
              "    }\n",
              "\n",
              "    .colab-df-buttons div {\n",
              "      margin-bottom: 4px;\n",
              "    }\n",
              "\n",
              "    [theme=dark] .colab-df-convert {\n",
              "      background-color: #3B4455;\n",
              "      fill: #D2E3FC;\n",
              "    }\n",
              "\n",
              "    [theme=dark] .colab-df-convert:hover {\n",
              "      background-color: #434B5C;\n",
              "      box-shadow: 0px 1px 3px 1px rgba(0, 0, 0, 0.15);\n",
              "      filter: drop-shadow(0px 1px 2px rgba(0, 0, 0, 0.3));\n",
              "      fill: #FFFFFF;\n",
              "    }\n",
              "  </style>\n",
              "\n",
              "    <script>\n",
              "      const buttonEl =\n",
              "        document.querySelector('#df-d4b4c29d-51e1-4823-bc85-de7b6ee1ca14 button.colab-df-convert');\n",
              "      buttonEl.style.display =\n",
              "        google.colab.kernel.accessAllowed ? 'block' : 'none';\n",
              "\n",
              "      async function convertToInteractive(key) {\n",
              "        const element = document.querySelector('#df-d4b4c29d-51e1-4823-bc85-de7b6ee1ca14');\n",
              "        const dataTable =\n",
              "          await google.colab.kernel.invokeFunction('convertToInteractive',\n",
              "                                                    [key], {});\n",
              "        if (!dataTable) return;\n",
              "\n",
              "        const docLinkHtml = 'Like what you see? Visit the ' +\n",
              "          '<a target=\"_blank\" href=https://colab.research.google.com/notebooks/data_table.ipynb>data table notebook</a>'\n",
              "          + ' to learn more about interactive tables.';\n",
              "        element.innerHTML = '';\n",
              "        dataTable['output_type'] = 'display_data';\n",
              "        await google.colab.output.renderOutput(dataTable, element);\n",
              "        const docLink = document.createElement('div');\n",
              "        docLink.innerHTML = docLinkHtml;\n",
              "        element.appendChild(docLink);\n",
              "      }\n",
              "    </script>\n",
              "  </div>\n",
              "\n",
              "\n",
              "<div id=\"df-be44406f-9fdb-4460-94db-ebb77428ed48\">\n",
              "  <button class=\"colab-df-quickchart\" onclick=\"quickchart('df-be44406f-9fdb-4460-94db-ebb77428ed48')\"\n",
              "            title=\"Suggest charts\"\n",
              "            style=\"display:none;\">\n",
              "\n",
              "<svg xmlns=\"http://www.w3.org/2000/svg\" height=\"24px\"viewBox=\"0 0 24 24\"\n",
              "     width=\"24px\">\n",
              "    <g>\n",
              "        <path d=\"M19 3H5c-1.1 0-2 .9-2 2v14c0 1.1.9 2 2 2h14c1.1 0 2-.9 2-2V5c0-1.1-.9-2-2-2zM9 17H7v-7h2v7zm4 0h-2V7h2v10zm4 0h-2v-4h2v4z\"/>\n",
              "    </g>\n",
              "</svg>\n",
              "  </button>\n",
              "\n",
              "<style>\n",
              "  .colab-df-quickchart {\n",
              "      --bg-color: #E8F0FE;\n",
              "      --fill-color: #1967D2;\n",
              "      --hover-bg-color: #E2EBFA;\n",
              "      --hover-fill-color: #174EA6;\n",
              "      --disabled-fill-color: #AAA;\n",
              "      --disabled-bg-color: #DDD;\n",
              "  }\n",
              "\n",
              "  [theme=dark] .colab-df-quickchart {\n",
              "      --bg-color: #3B4455;\n",
              "      --fill-color: #D2E3FC;\n",
              "      --hover-bg-color: #434B5C;\n",
              "      --hover-fill-color: #FFFFFF;\n",
              "      --disabled-bg-color: #3B4455;\n",
              "      --disabled-fill-color: #666;\n",
              "  }\n",
              "\n",
              "  .colab-df-quickchart {\n",
              "    background-color: var(--bg-color);\n",
              "    border: none;\n",
              "    border-radius: 50%;\n",
              "    cursor: pointer;\n",
              "    display: none;\n",
              "    fill: var(--fill-color);\n",
              "    height: 32px;\n",
              "    padding: 0;\n",
              "    width: 32px;\n",
              "  }\n",
              "\n",
              "  .colab-df-quickchart:hover {\n",
              "    background-color: var(--hover-bg-color);\n",
              "    box-shadow: 0 1px 2px rgba(60, 64, 67, 0.3), 0 1px 3px 1px rgba(60, 64, 67, 0.15);\n",
              "    fill: var(--button-hover-fill-color);\n",
              "  }\n",
              "\n",
              "  .colab-df-quickchart-complete:disabled,\n",
              "  .colab-df-quickchart-complete:disabled:hover {\n",
              "    background-color: var(--disabled-bg-color);\n",
              "    fill: var(--disabled-fill-color);\n",
              "    box-shadow: none;\n",
              "  }\n",
              "\n",
              "  .colab-df-spinner {\n",
              "    border: 2px solid var(--fill-color);\n",
              "    border-color: transparent;\n",
              "    border-bottom-color: var(--fill-color);\n",
              "    animation:\n",
              "      spin 1s steps(1) infinite;\n",
              "  }\n",
              "\n",
              "  @keyframes spin {\n",
              "    0% {\n",
              "      border-color: transparent;\n",
              "      border-bottom-color: var(--fill-color);\n",
              "      border-left-color: var(--fill-color);\n",
              "    }\n",
              "    20% {\n",
              "      border-color: transparent;\n",
              "      border-left-color: var(--fill-color);\n",
              "      border-top-color: var(--fill-color);\n",
              "    }\n",
              "    30% {\n",
              "      border-color: transparent;\n",
              "      border-left-color: var(--fill-color);\n",
              "      border-top-color: var(--fill-color);\n",
              "      border-right-color: var(--fill-color);\n",
              "    }\n",
              "    40% {\n",
              "      border-color: transparent;\n",
              "      border-right-color: var(--fill-color);\n",
              "      border-top-color: var(--fill-color);\n",
              "    }\n",
              "    60% {\n",
              "      border-color: transparent;\n",
              "      border-right-color: var(--fill-color);\n",
              "    }\n",
              "    80% {\n",
              "      border-color: transparent;\n",
              "      border-right-color: var(--fill-color);\n",
              "      border-bottom-color: var(--fill-color);\n",
              "    }\n",
              "    90% {\n",
              "      border-color: transparent;\n",
              "      border-bottom-color: var(--fill-color);\n",
              "    }\n",
              "  }\n",
              "</style>\n",
              "\n",
              "  <script>\n",
              "    async function quickchart(key) {\n",
              "      const quickchartButtonEl =\n",
              "        document.querySelector('#' + key + ' button');\n",
              "      quickchartButtonEl.disabled = true;  // To prevent multiple clicks.\n",
              "      quickchartButtonEl.classList.add('colab-df-spinner');\n",
              "      try {\n",
              "        const charts = await google.colab.kernel.invokeFunction(\n",
              "            'suggestCharts', [key], {});\n",
              "      } catch (error) {\n",
              "        console.error('Error during call to suggestCharts:', error);\n",
              "      }\n",
              "      quickchartButtonEl.classList.remove('colab-df-spinner');\n",
              "      quickchartButtonEl.classList.add('colab-df-quickchart-complete');\n",
              "    }\n",
              "    (() => {\n",
              "      let quickchartButtonEl =\n",
              "        document.querySelector('#df-be44406f-9fdb-4460-94db-ebb77428ed48 button');\n",
              "      quickchartButtonEl.style.display =\n",
              "        google.colab.kernel.accessAllowed ? 'block' : 'none';\n",
              "    })();\n",
              "  </script>\n",
              "</div>\n",
              "\n",
              "    </div>\n",
              "  </div>\n"
            ],
            "application/vnd.google.colaboratory.intrinsic+json": {
              "type": "dataframe",
              "variable_name": "df",
              "summary": "{\n  \"name\": \"df\",\n  \"rows\": 4305,\n  \"fields\": [\n    {\n      \"column\": \"Full_Article\",\n      \"properties\": {\n        \"dtype\": \"string\",\n        \"num_unique_values\": 4270,\n        \"samples\": [\n          \"The borough is looking to assign a designated helicopter parking area to provide adequate separation between fixed and rotarywing parking areas The proposed helicopter parking area will provide two parking spaces that will support the design helicopters Eurocopter BK117 B2and Agusta Westland A109E\",\n          \"The Bell 214 is a mediumsized utility helicopter developed by the USbased Thaksin Bell Helicopter Company based on the military UH1 H On October 12 1970 the prototype first flew and was exported to many countries and regions The machine has undergone several modifications and this time it is a newer model with a 4leaf main rotor\",\n          \"Bell ushered the dreams of air taxis with its Nexus VTOL virtual takeoff and landing aircraft Developed for Ubers Elevate Air Taxi program Nexus is akin to a giant drone aesthetically and is powered by a hybridelectric propulsion system The fourpassenger vehicle presented by Bell is a prototype and not operational yet the company hopes that by 2020 Nexus will have its first test flights\"\n        ],\n        \"semantic_type\": \"\",\n        \"description\": \"\"\n      }\n    },\n    {\n      \"column\": \"Article_Type\",\n      \"properties\": {\n        \"dtype\": \"category\",\n        \"num_unique_values\": 7,\n        \"samples\": [\n          \"Commercial\",\n          \"Military\",\n          \"Financing\"\n        ],\n        \"semantic_type\": \"\",\n        \"description\": \"\"\n      }\n    }\n  ]\n}"
            }
          },
          "metadata": {},
          "execution_count": 9
        }
      ],
      "source": [
        "df['Full_Article'] = df['Full_Article'].apply(lambda x: clean_text(x))\n",
        "df.head()"
      ]
    },
    {
      "cell_type": "code",
      "execution_count": 10,
      "metadata": {
        "colab": {
          "base_uri": "https://localhost:8080/"
        },
        "id": "Eb5M8--JmLB8",
        "outputId": "2b41d29b-2350-4539-98c4-c3716d3c2f5e"
      },
      "outputs": [
        {
          "output_type": "execute_result",
          "data": {
            "text/plain": [
              "Article_Type\n",
              "Commercial            2470\n",
              "Military              1677\n",
              "Executives              65\n",
              "Others                  52\n",
              "Support & Services      26\n",
              "Financing                9\n",
              "Training                 6\n",
              "Name: count, dtype: int64"
            ]
          },
          "metadata": {},
          "execution_count": 10
        }
      ],
      "source": [
        "df['Article_Type'].value_counts()"
      ]
    },
    {
      "cell_type": "code",
      "execution_count": 11,
      "metadata": {
        "colab": {
          "base_uri": "https://localhost:8080/"
        },
        "id": "XNVbgFPMmLEh",
        "outputId": "1e73cac3-3600-4f9b-ebfb-a8d763bbbcc8"
      },
      "outputs": [
        {
          "output_type": "stream",
          "name": "stdout",
          "text": [
            "Article_Type\n",
            "Commercial            2470\n",
            "Military              2470\n",
            "Training              2470\n",
            "Executives            2470\n",
            "Others                2470\n",
            "Financing             2470\n",
            "Support & Services    2470\n",
            "Name: count, dtype: int64\n"
          ]
        }
      ],
      "source": [
        "X = df.drop('Article_Type', axis=1)\n",
        "y = df['Article_Type']\n",
        "\n",
        "oversampler = RandomOverSampler(random_state=42)\n",
        "X_resampled, y_resampled = oversampler.fit_resample(X, y)\n",
        "\n",
        "df_resampled = pd.DataFrame(X_resampled, columns=X.columns)\n",
        "df_resampled['Article_Type'] = y_resampled\n",
        "\n",
        "\n",
        "print(df_resampled['Article_Type'].value_counts())"
      ]
    },
    {
      "cell_type": "code",
      "source": [],
      "metadata": {
        "id": "aiCAGVBHA_hA"
      },
      "execution_count": null,
      "outputs": []
    },
    {
      "cell_type": "code",
      "source": [
        "mapping = {\n",
        "    0: 'Commercial',\n",
        "    1: 'Executives',\n",
        "    2: 'Financing',\n",
        "    3: 'Military',\n",
        "    4: 'Others',\n",
        "    5: 'Support & Services',\n",
        "    6: 'Training'\n",
        "}\n",
        ""
      ],
      "metadata": {
        "id": "nKAanyYgBFUH"
      },
      "execution_count": 27,
      "outputs": []
    },
    {
      "cell_type": "code",
      "execution_count": 12,
      "metadata": {
        "id": "zq2u3dnymLGv"
      },
      "outputs": [],
      "source": [
        "data_texts = df_resampled['Full_Article'].to_list()\n",
        "data_labels = df_resampled['Article_Type'].to_list()"
      ]
    },
    {
      "cell_type": "code",
      "execution_count": 13,
      "metadata": {
        "id": "vI93pcBnmbwM"
      },
      "outputs": [],
      "source": [
        "train_texts, test_texts, train_labels, test_labels = train_test_split(data_texts, data_labels, test_size = 0.2, random_state = 0 )"
      ]
    },
    {
      "cell_type": "code",
      "execution_count": 15,
      "metadata": {
        "colab": {
          "base_uri": "https://localhost:8080/"
        },
        "id": "Phej5z3S5L1a",
        "outputId": "98a6fafc-35f2-46fb-a3a8-71c4e54e329e"
      },
      "outputs": [
        {
          "output_type": "stream",
          "name": "stdout",
          "text": [
            "[==================================================] 100.0% 1662.8/1662.8MB downloaded\n"
          ]
        }
      ],
      "source": [
        "import numpy as np\n",
        "from gensim.models import KeyedVectors\n",
        "\n",
        "from sklearn.ensemble import RandomForestClassifier\n",
        "from sklearn.svm import SVC\n",
        "\n",
        "from sklearn.model_selection import train_test_split\n",
        "\n",
        "from sklearn.metrics import accuracy_score\n",
        "\n",
        "import gensim.downloader as api\n",
        "\n",
        "word_vectors = api.load('word2vec-google-news-300')\n",
        "\n",
        "# Load pre-trained Word2Vec embeddings\n",
        "# word_vectors = KeyedVectors.load_word2vec_format('path_to_word2vec.bin', binary=True)"
      ]
    },
    {
      "cell_type": "markdown",
      "metadata": {
        "id": "TLLPWLl05L1b"
      },
      "source": [
        "\n",
        "\n"
      ]
    },
    {
      "cell_type": "code",
      "source": [
        "# Function to average Word2Vec embeddings for a sentence\n",
        "def get_sentence_embeddings(data_texts, word_vectors):\n",
        "    embeddings = []\n",
        "    for text in data_texts:\n",
        "        words = text.lower().split()\n",
        "        vectors = [word_vectors[word] for word in words if word in word_vectors]\n",
        "        if vectors:\n",
        "            avg_vector = np.mean(vectors, axis=0)\n",
        "        else:\n",
        "            avg_vector = np.zeros(word_vectors.vector_size)\n",
        "        embeddings.append(avg_vector)\n",
        "    return np.array(embeddings)\n",
        "\n",
        "# Convert texts to Word2Vec embeddings\n",
        "embeddings = get_sentence_embeddings(data_texts, word_vectors)\n",
        "\n",
        "# Split data into training and test sets\n",
        "train_embeddings, test_embeddings, train_labels, test_labels = train_test_split(embeddings, data_labels, test_size=0.2, random_state=42)\n"
      ],
      "metadata": {
        "id": "AE5CsnW86fV0"
      },
      "execution_count": 18,
      "outputs": []
    },
    {
      "cell_type": "code",
      "source": [
        "# 1. RandomForestClassifier\n",
        "\n",
        "clf_rf = RandomForestClassifier(n_estimators=100, random_state=42)\n",
        "clf_rf.fit(train_embeddings, train_labels)\n",
        "predicted_labels_rf = clf_rf.predict(test_embeddings)\n",
        "\n",
        "print(\"RandomForest Classifier Report:\\n\", classification_report(test_labels, predicted_labels_rf))\n",
        "\n",
        "print(\"\\nRandomForest Accuracy Score: \", accuracy_score(test_labels, predicted_labels_rf))"
      ],
      "metadata": {
        "colab": {
          "base_uri": "https://localhost:8080/"
        },
        "id": "Bw5PA_OSAR2J",
        "outputId": "ec691b76-3e8a-4436-94c1-74050b15c262"
      },
      "execution_count": 31,
      "outputs": [
        {
          "output_type": "stream",
          "name": "stdout",
          "text": [
            "RandomForest Classifier Report:\n",
            "                     precision    recall  f1-score   support\n",
            "\n",
            "        Commercial       0.88      0.92      0.90       499\n",
            "        Executives       1.00      1.00      1.00       475\n",
            "         Financing       1.00      1.00      1.00       494\n",
            "          Military       0.92      0.88      0.90       507\n",
            "            Others       1.00      1.00      1.00       494\n",
            "Support & Services       1.00      1.00      1.00       506\n",
            "          Training       1.00      1.00      1.00       483\n",
            "\n",
            "          accuracy                           0.97      3458\n",
            "         macro avg       0.97      0.97      0.97      3458\n",
            "      weighted avg       0.97      0.97      0.97      3458\n",
            "\n",
            "\n",
            "RandomForest Accuracy Score:  0.9705031810294968\n"
          ]
        }
      ]
    },
    {
      "cell_type": "code",
      "source": [
        "confusion = confusion_matrix(test_labels, predicted_labels_rf)\n",
        "\n",
        "\n",
        "plt.figure(figsize=(8, 6))\n",
        "sns.set(font_scale=1.2)\n",
        "sns.heatmap(confusion, annot=True, fmt=\"d\", cmap=\"Blues\", cbar=False, square=True)\n",
        "plt.xlabel('Predicted')\n",
        "plt.ylabel('True')\n",
        "plt.title('Confusion Matrix')\n",
        "\n",
        "# Add category labels\n",
        "tick_labels = [mapping[i] for i in range(len(mapping))]\n",
        "plt.xticks(ticks=np.arange(len(mapping))+0.5, labels=tick_labels, rotation=45)\n",
        "plt.yticks(ticks=np.arange(len(mapping))+0.5, labels=tick_labels, rotation=0)\n",
        "\n",
        "plt.show()\n",
        ""
      ],
      "metadata": {
        "colab": {
          "base_uri": "https://localhost:8080/",
          "height": 697
        },
        "id": "0A3IiBJEAf3z",
        "outputId": "8cc882d9-10c3-4a41-a769-01b3e02e1ea5"
      },
      "execution_count": 33,
      "outputs": [
        {
          "output_type": "display_data",
          "data": {
            "text/plain": [
              "<Figure size 800x600 with 1 Axes>"
            ],
            "image/png": "[encoded data removed]"
          },
          "metadata": {}
        }
      ]
    },
    {
      "cell_type": "code",
      "source": [
        "# 2. Support Vector Machine (SVM)\n",
        "clf_svm = SVC(kernel='linear', random_state=42)\n",
        "clf_svm.fit(train_embeddings, train_labels)\n",
        "predicted_labels_svm = clf_svm.predict(test_embeddings)\n",
        "\n",
        "print(\"\\n 2.SVM Classification Report:\\n\", classification_report(test_labels, predicted_labels_svm))\n",
        "\n",
        "print(\"SVM Accuracy Score: \", accuracy_score(test_labels, predicted_labels_svm))"
      ],
      "metadata": {
        "colab": {
          "base_uri": "https://localhost:8080/"
        },
        "id": "2utY0copAYAJ",
        "outputId": "48b646da-a89e-4d12-f52d-07f1b2b031b5"
      },
      "execution_count": 34,
      "outputs": [
        {
          "output_type": "stream",
          "name": "stdout",
          "text": [
            "\n",
            " 2.SVM Classification Report:\n",
            "                     precision    recall  f1-score   support\n",
            "\n",
            "        Commercial       0.83      0.80      0.82       499\n",
            "        Executives       0.99      0.99      0.99       475\n",
            "         Financing       1.00      1.00      1.00       494\n",
            "          Military       0.88      0.85      0.87       507\n",
            "            Others       0.91      0.98      0.95       494\n",
            "Support & Services       0.98      1.00      0.99       506\n",
            "          Training       1.00      1.00      1.00       483\n",
            "\n",
            "          accuracy                           0.94      3458\n",
            "         macro avg       0.94      0.94      0.94      3458\n",
            "      weighted avg       0.94      0.94      0.94      3458\n",
            "\n",
            "SVM Accuracy Score:  0.9441873915558127\n"
          ]
        }
      ]
    },
    {
      "cell_type": "code",
      "source": [
        "confusion = confusion_matrix(test_labels, predicted_labels_svm)\n",
        "\n",
        "plt.figure(figsize=(8, 6))\n",
        "sns.set(font_scale=1.2)\n",
        "sns.heatmap(confusion, annot=True, fmt=\"d\", cmap=\"Blues\", cbar=False, square=True)\n",
        "plt.xlabel('Predicted')\n",
        "plt.ylabel('True')\n",
        "plt.title('Confusion Matrix')\n",
        "\n",
        "# Add category labels\n",
        "tick_labels = [mapping[i] for i in range(len(mapping))]\n",
        "plt.xticks(ticks=np.arange(len(mapping))+0.5, labels=tick_labels, rotation=45)\n",
        "plt.yticks(ticks=np.arange(len(mapping))+0.5, labels=tick_labels, rotation=0)\n",
        "\n",
        "plt.show()"
      ],
      "metadata": {
        "colab": {
          "base_uri": "https://localhost:8080/",
          "height": 697
        },
        "id": "XBaWUbTbAYCy",
        "outputId": "013803f9-79ff-4b3f-d842-eb27cf3ee657"
      },
      "execution_count": 35,
      "outputs": [
        {
          "output_type": "display_data",
          "data": {
            "text/plain": [
              "<Figure size 800x600 with 1 Axes>"
            ],
            "image/png": "[encoded data removed]"
          },
          "metadata": {}
        }
      ]
    }
  ],
  "metadata": {
    "accelerator": "GPU",
    "colab": {
      "gpuType": "T4",
      "provenance": []
    },
    "kernelspec": {
      "display_name": "Python 3",
      "name": "python3"
    },
    "language_info": {
      "codemirror_mode": {
        "name": "ipython",
        "version": 3
      },
      "file_extension": ".py",
      "mimetype": "text/x-python",
      "name": "python",
      "nbconvert_exporter": "python",
      "pygments_lexer": "ipython3",
      "version": "3.11.0"
    }
  },
  "nbformat": 4,
  "nbformat_minor": 0
}